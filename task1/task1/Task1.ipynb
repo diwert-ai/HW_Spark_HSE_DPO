{
 "cells": [
  {
   "cell_type": "code",
   "execution_count": 1,
   "id": "bfd5f8ac-b24a-47ad-996f-6cb74e7cfd1b",
   "metadata": {},
   "outputs": [
    {
     "name": "stdout",
     "output_type": "stream",
     "text": [
      "Defaulting to user installation because normal site-packages is not writeable\n",
      "Collecting flask\n",
      "  Downloading flask-3.0.1-py3-none-any.whl (101 kB)\n",
      "\u001b[2K     \u001b[90m━━━━━━━━━━━━━━━━━━━━━━━━━━━━━━━━━━━━━━━\u001b[0m \u001b[32m101.2/101.2 KB\u001b[0m \u001b[31m1.2 MB/s\u001b[0m eta \u001b[36m0:00:00\u001b[0ma \u001b[36m0:00:01\u001b[0m\n",
      "\u001b[?25hCollecting itsdangerous>=2.1.2\n",
      "  Downloading itsdangerous-2.1.2-py3-none-any.whl (15 kB)\n",
      "Collecting blinker>=1.6.2\n",
      "  Downloading blinker-1.7.0-py3-none-any.whl (13 kB)\n",
      "Collecting Jinja2>=3.1.2\n",
      "  Downloading Jinja2-3.1.3-py3-none-any.whl (133 kB)\n",
      "\u001b[2K     \u001b[90m━━━━━━━━━━━━━━━━━━━━━━━━━━━━━━━━━━━━━━━\u001b[0m \u001b[32m133.2/133.2 KB\u001b[0m \u001b[31m5.7 MB/s\u001b[0m eta \u001b[36m0:00:00\u001b[0m\n",
      "\u001b[?25hCollecting click>=8.1.3\n",
      "  Downloading click-8.1.7-py3-none-any.whl (97 kB)\n",
      "\u001b[2K     \u001b[90m━━━━━━━━━━━━━━━━━━━━━━━━━━━━━━━━━━━━━━━━\u001b[0m \u001b[32m97.9/97.9 KB\u001b[0m \u001b[31m2.9 MB/s\u001b[0m eta \u001b[36m0:00:00\u001b[0m\n",
      "\u001b[?25hCollecting Werkzeug>=3.0.0\n",
      "  Downloading werkzeug-3.0.1-py3-none-any.whl (226 kB)\n",
      "\u001b[2K     \u001b[90m━━━━━━━━━━━━━━━━━━━━━━━━━━━━━━━━━━━━━━━\u001b[0m \u001b[32m226.7/226.7 KB\u001b[0m \u001b[31m6.9 MB/s\u001b[0m eta \u001b[36m0:00:00\u001b[0m\n",
      "\u001b[?25hRequirement already satisfied: MarkupSafe>=2.0 in /usr/lib/python3/dist-packages (from Jinja2>=3.1.2->flask) (2.0.1)\n",
      "Collecting MarkupSafe>=2.0\n",
      "  Downloading MarkupSafe-2.1.4-cp310-cp310-manylinux_2_17_x86_64.manylinux2014_x86_64.whl (25 kB)\n",
      "Installing collected packages: MarkupSafe, itsdangerous, click, blinker, Werkzeug, Jinja2, flask\n",
      "Successfully installed Jinja2-3.1.3 MarkupSafe-2.1.4 Werkzeug-3.0.1 blinker-1.7.0 click-8.1.7 flask-3.0.1 itsdangerous-2.1.2\n",
      "Note: you may need to restart the kernel to use updated packages.\n"
     ]
    }
   ],
   "source": [
    "pip install flask"
   ]
  },
  {
   "cell_type": "code",
   "execution_count": 2,
   "id": "0704a733-ce0c-4f56-a471-5a5230a6b376",
   "metadata": {},
   "outputs": [],
   "source": [
    "import requests\n",
    "import time"
   ]
  },
  {
   "cell_type": "code",
   "execution_count": 213,
   "id": "2ee88593-4e04-4e8e-afd4-dd5edf63878d",
   "metadata": {},
   "outputs": [
    {
     "name": "stdout",
     "output_type": "stream",
     "text": [
      "Overwriting server.py\n"
     ]
    }
   ],
   "source": [
    "%%writefile server.py\n",
    "\n",
    "from collections import Counter\n",
    "from flask import Flask\n",
    "from flask import jsonify\n",
    "from flask import request\n",
    "from flask import abort\n",
    "\n",
    "def read_dictionary(filename: str) -> Counter:\n",
    "    '''\n",
    "        Read dictionary file with words statistics.\n",
    "        Function results is Counter datatype.\n",
    "    '''\n",
    "    #YOUR CODE HERE\n",
    "    words = dict()\n",
    "    with open(filename, 'r') as f:\n",
    "        for line in f:\n",
    "            key, val = line.split()\n",
    "            words[key] = int(val)\n",
    "\n",
    "    return Counter(words)\n",
    "\n",
    "WORDS = read_dictionary('dictionary.txt')\n",
    "\n",
    "\n",
    "def P(word, N=sum(WORDS.values())): \n",
    "    '''\n",
    "        Probability of `word`: (num occurances of `word`)/ (total count of words) \n",
    "    '''\n",
    "    # YOUR CODE HERE\n",
    "    return WORDS[word]/N\n",
    "\n",
    "def most_probable(word): \n",
    "    '''\n",
    "        Find most probable (with max ) spelling correction for word. \n",
    "        Hint: see max function + key param \n",
    "            https://www.programiz.com/python-programming/methods/built-in/max\n",
    "    '''\n",
    "    # YOUR CODE HERE\n",
    "    return max(candidates(word), key=lambda w: P(w))\n",
    "\n",
    "def candidates(word): \n",
    "    '''\n",
    "        Generate most nearest spelling corrections for word.\n",
    "        If found word in dictionary then return word, otherwise\n",
    "        try found words from one and then two edit distance\n",
    "    '''\n",
    "    one_symbol_change = generate_candidates_one_symbol(word)\n",
    "    two_symbol_change = generate_candidates_two_symbol(word)\n",
    "    return (known([word]) or known(one_symbol_change) or known(two_symbol_change) or [word])\n",
    "\n",
    "def known(words): \n",
    "    '''\n",
    "        The subset of `words` that appear in the dictionary of WORDS.\n",
    "    '''\n",
    "    return set(w for w in words if w in WORDS)\n",
    "\n",
    "def generate_candidates_one_symbol(word):\n",
    "    '''\n",
    "        Generate candidates that are one edit symbol away from `word`.\n",
    "    '''\n",
    "    \n",
    "    letters    = 'абвгдеёжзиклмнопрстуфхцчшщъыьэюя'\n",
    "    splits     = [(word[:i], word[i:])    for i in range(len(word) + 1)]\n",
    "    deletes    = [L + R[1:]               for L, R in splits if R]\n",
    "    transposes = [L + R[1] + R[0] + R[2:] for L, R in splits if len(R)>1]\n",
    "    replaces   = [L + c + R[1:]           for L, R in splits if R for c in letters]\n",
    "    inserts    = [L + c + R               for L, R in splits for c in letters]\n",
    "    return set(deletes + transposes + replaces + inserts)\n",
    "\n",
    "def generate_candidates_two_symbol(word): \n",
    "    '''\n",
    "        Generate all сandidates that are two edits away from `word`.\n",
    "    '''\n",
    "    return [\n",
    "        e2 for e1 in generate_candidates_one_symbol(word)\n",
    "        for e2 in generate_candidates_one_symbol(e1)\n",
    "    ]\n",
    "\n",
    "app = Flask(__name__)\n",
    "\n",
    "@app.route('/version', methods=['GET'])\n",
    "def get_version():\n",
    "    # YOUR CODE HERE\n",
    "    return jsonify({'version':'1.0'})\n",
    "\n",
    "@app.route('/correct', methods=['GET'])\n",
    "def correct():\n",
    "    # YOUR CODE HERE\n",
    "    check_word = request.args.get('check_word')\n",
    "    corrected = most_probable(check_word)\n",
    "    return jsonify({'correct_word': corrected})\n",
    "\n",
    "@app.route('/add_word', methods=['POST'])\n",
    "def add_word():\n",
    "    # YOUR CODE HERE\n",
    "    added_word =  request.json['added_word']\n",
    "    WORDS[added_word] += 1\n",
    "\n",
    "    return jsonify(success=True)\n",
    "\n",
    "@app.route('/candidates/<int:edit_distance>', methods=['GET'])\n",
    "def get_candidates(edit_distance: int):\n",
    "    # YOUR CODE HERE\n",
    "    word =  request.args.get('word')\n",
    "    one_symbol_change = generate_candidates_one_symbol(word)\n",
    "    two_symbol_change = generate_candidates_two_symbol(word)\n",
    "    responses = {\n",
    "        1: {'words': list(set.union(known([word]), known(one_symbol_change), [word]))},\n",
    "        2: {'words': list(set.union(known([word]), known(one_symbol_change), known(two_symbol_change), [word]))}\n",
    "    }\n",
    "    \n",
    "    return jsonify(responses[edit_distance]) if edit_distance in responses else abort(404)\n",
    "\n",
    "if __name__ == '__main__':\n",
    "    app.run(host='0.0.0.0', port=5555)"
   ]
  },
  {
   "cell_type": "code",
   "execution_count": 215,
   "id": "1dee261b-5c7c-498d-bfac-8d970c060141",
   "metadata": {},
   "outputs": [
    {
     "data": {
      "text/plain": [
       "{'version': '1.0'}"
      ]
     },
     "execution_count": 215,
     "metadata": {},
     "output_type": "execute_result"
    }
   ],
   "source": [
    "resp = requests.get(\"http://localhost:5555/version\")\n",
    "\n",
    "assert resp.status_code == 200,  f'''Статус некорректный статус ответа: {resp.status_code}.\n",
    "                                     Описание ошибки: {resp.reason}.\n",
    "                                     Посмотрите в запущенном терминале более детальную информацию о ней'''\n",
    "assert resp.json().get(\"version\") == \"1.0\", \"Некорректный номер версии\"\n",
    "resp.json()"
   ]
  },
  {
   "cell_type": "code",
   "execution_count": 216,
   "id": "e56076f9-b987-4c08-8a9a-28768f553f2f",
   "metadata": {},
   "outputs": [
    {
     "data": {
      "text/plain": [
       "'полководец'"
      ]
     },
     "execution_count": 216,
     "metadata": {},
     "output_type": "execute_result"
    }
   ],
   "source": [
    "params = {\"check_word\": \"полкводиц\"}\n",
    "resp = requests.get(\"http://localhost:5555/correct\", params=params)\n",
    "\n",
    "assert resp.status_code == 200, \"Код ошибки не равен 200, ошибки на стороне сервера\"\n",
    "assert resp.json()['correct_word'] == \"полководец\", \"Исправление некорретное\"\n",
    "resp.json()['correct_word']"
   ]
  },
  {
   "cell_type": "code",
   "execution_count": 217,
   "id": "f83d6b4d-f442-4685-b749-a75a6ce1ebe2",
   "metadata": {},
   "outputs": [
    {
     "name": "stdout",
     "output_type": "stream",
     "text": [
      "{'correct_word': 'ради'}\n"
     ]
    }
   ],
   "source": [
    "params = {\"check_word\": \"радио\"}\n",
    "resp = requests.get(\"http://localhost:5555/correct\", params=params)\n",
    "\n",
    "print(resp.json())"
   ]
  },
  {
   "cell_type": "code",
   "execution_count": 218,
   "id": "5eeae2e1-172a-48d8-a75d-3fba425f3abe",
   "metadata": {},
   "outputs": [
    {
     "name": "stdout",
     "output_type": "stream",
     "text": [
      "{'correct_word': 'радио'}\n"
     ]
    }
   ],
   "source": [
    "# Проверим работоспособность метода добавления нового слова\n",
    "data = {\"added_word\": \"радио\"}\n",
    "resp = requests.post(\"http://localhost:5555/add_word\", json=data)\n",
    "\n",
    "assert resp.status_code == 200, \"Код ошибки не равен 200, ошибки на стороне сервера\"\n",
    "\n",
    "# Проверим, что новое слово действительно добавилось в словарь\n",
    "\n",
    "params = {\"check_word\": \"радио\"}\n",
    "resp = requests.get(\"http://localhost:5555/correct\", params=params)\n",
    "\n",
    "\n",
    "assert resp.status_code == 200, \"Код ошибки не равен 200, ошибки на стороне сервера\"\n",
    "assert resp.json()['correct_word'] == \"радио\", \"Новое слово радио не было добавлено в словарь корректных слов\"\n",
    "\n",
    "\n",
    "print(resp.json())"
   ]
  },
  {
   "cell_type": "code",
   "execution_count": 219,
   "id": "681630d1-61e7-4f17-9b3b-5770c7b5fd89",
   "metadata": {},
   "outputs": [
    {
     "name": "stdout",
     "output_type": "stream",
     "text": [
      "Ответ от сервера: {'words': ['генерал', 'генералы', 'генерала', 'генералу', 'генерале']}\n",
      "Ответ от сервера: {'words': ['генералом', 'генералам', 'генерала', 'генералу', 'генерале', 'генерал', 'генералах', 'генералы', 'генералов']}\n"
     ]
    }
   ],
   "source": [
    "resp = requests.get(\"http://localhost:5555/candidates/1\", params={\"word\": \"генерал\"})\n",
    "assert resp.status_code == 200, \"Код ответа не равен 200, в решении присутствуют ошибки\"\n",
    "print(\"Ответ от сервера:\", resp.json())\n",
    "assert len(resp.json()[\"words\"]) == 5, f'''Ошибка в логике работы, для данного\n",
    "                слова должно быть сформировано 5 кандидатов, получено {len(resp.json()['words'])}'''\n",
    "\n",
    "resp = requests.get(\"http://localhost:5555/candidates/2\", params={\"word\": \"генерал\"})\n",
    "assert resp.status_code == 200, \"Код ответа не равен 200, в решении присутствуют ошибки\"\n",
    "print(\"Ответ от сервера:\", resp.json())\n",
    "assert len(resp.json()[\"words\"]) == 9, f'''Ошибка в логике работы, для данного слова должно \n",
    "                быть сформировано 9 кандидатов, получено {len(resp.json()['words'])}'''"
   ]
  },
  {
   "cell_type": "code",
   "execution_count": 220,
   "id": "8cb2c914-ee27-43b3-af78-8d7702675ae6",
   "metadata": {},
   "outputs": [
    {
     "name": "stdout",
     "output_type": "stream",
     "text": [
      "Writing Dockerfile\n"
     ]
    }
   ],
   "source": [
    "%%writefile Dockerfile\n",
    "\n",
    "# Используем в качестве базового образа образ python\n",
    "FROM python:3.11-slim\n",
    "\n",
    "# Создайте папку, в которой будет храниться исходные файлы приложения, с именем app\n",
    "# YOUR CODE HERE\n",
    "RUN mkdir /app \n",
    "\n",
    "# Пометьте созданную папку app как рабочую директорию. \n",
    "# YOUR CODE HERE\n",
    "WORKDIR /app\n",
    "\n",
    "# Перекопируйте файл server.py с текущей директории в созданную выше папку app\n",
    "# YOUR CODE HERE\n",
    "COPY server.py /app\n",
    "# Перекопируйте файл словаря c текущей директории в созданную выше папку app\n",
    "# YOUR CODE HERE\n",
    "COPY dictionary.txt /app\n",
    "\n",
    "# Установим библиотеку Flask внутрь контейнера\n",
    "RUN pip3 install -q Flask\n",
    "\n",
    "# Сделаем порт 5555, на котором работет приложение видимым\n",
    "EXPOSE 5555\n",
    "\n",
    "# Установим команду, которая будет запускаться при старте котнейнера\n",
    "CMD [\"python3\", \"server.py\"]"
   ]
  },
  {
   "cell_type": "code",
   "execution_count": 221,
   "id": "e31221c4-7825-4737-972d-a03417a50db1",
   "metadata": {},
   "outputs": [
    {
     "name": "stdout",
     "output_type": "stream",
     "text": [
      "Error response from daemon: No such image: corrector:1.0\n",
      "#0 building with \"default\" instance using docker driver\n",
      "\n",
      "#1 [internal] load build definition from Dockerfile\n",
      "#1 transferring dockerfile:\n",
      "#1 transferring dockerfile: 1.20kB done\n",
      "#1 DONE 0.2s\n",
      "\n",
      "#2 [internal] load .dockerignore\n",
      "#2 transferring context: 2B done\n",
      "#2 DONE 0.2s\n",
      "\n",
      "#3 [internal] load metadata for docker.io/library/python:3.11-slim\n",
      "#3 DONE 2.1s\n",
      "\n",
      "#4 [internal] load build context\n",
      "#4 transferring context: 973.76kB 0.0s done\n",
      "#4 DONE 0.0s\n",
      "\n",
      "#5 [1/6] FROM docker.io/library/python:3.11-slim@sha256:d11b9bd5e49ea7401753d78f4d3b56f3aec952b85b49bcae88981f0452818e0b\n",
      "#5 resolve docker.io/library/python:3.11-slim@sha256:d11b9bd5e49ea7401753d78f4d3b56f3aec952b85b49bcae88981f0452818e0b 0.0s done\n",
      "#5 sha256:d11b9bd5e49ea7401753d78f4d3b56f3aec952b85b49bcae88981f0452818e0b 1.65kB / 1.65kB done\n",
      "#5 sha256:9b394f5b91f048ac4121d64c69028178a7728ffed9f59fba27f62d4f6cc29f97 1.37kB / 1.37kB done\n",
      "#5 sha256:da34282a1612d67286f90455408c3364e3258c1cd9a87310759454a6dc91b479 6.93kB / 6.93kB done\n",
      "#5 sha256:2f44b7a888fa005d07c031d3cfad2a1c0344207def2ab9dbb97712425ff812c1 0B / 29.13MB 0.1s\n",
      "#5 sha256:3f00b3697662aa214d22bb76bbbf5fa4d80f7ba9ca9f9076a9440d53bf529b83 0B / 3.51MB 0.1s\n",
      "#5 sha256:9f2fc8d8f9bd29bee019fdbb08e9bb9a9c094d04bbd0c4e4bc75dcf1e22a6fd8 0B / 12.84MB 0.1s\n",
      "#5 sha256:2f44b7a888fa005d07c031d3cfad2a1c0344207def2ab9dbb97712425ff812c1 11.53MB / 29.13MB 0.3s\n",
      "#5 sha256:3f00b3697662aa214d22bb76bbbf5fa4d80f7ba9ca9f9076a9440d53bf529b83 1.05MB / 3.51MB 0.3s\n",
      "#5 sha256:9f2fc8d8f9bd29bee019fdbb08e9bb9a9c094d04bbd0c4e4bc75dcf1e22a6fd8 5.24MB / 12.84MB 0.3s\n",
      "#5 sha256:2f44b7a888fa005d07c031d3cfad2a1c0344207def2ab9dbb97712425ff812c1 15.73MB / 29.13MB 0.4s\n",
      "#5 sha256:3f00b3697662aa214d22bb76bbbf5fa4d80f7ba9ca9f9076a9440d53bf529b83 3.51MB / 3.51MB 0.4s done\n",
      "#5 sha256:9f2fc8d8f9bd29bee019fdbb08e9bb9a9c094d04bbd0c4e4bc75dcf1e22a6fd8 11.53MB / 12.84MB 0.4s\n",
      "#5 sha256:2f44b7a888fa005d07c031d3cfad2a1c0344207def2ab9dbb97712425ff812c1 29.13MB / 29.13MB 0.6s\n",
      "#5 sha256:9f2fc8d8f9bd29bee019fdbb08e9bb9a9c094d04bbd0c4e4bc75dcf1e22a6fd8 12.84MB / 12.84MB 0.5s done\n",
      "#5 sha256:4ea8b799d366d7bb13576e6d6b209dd4a479293115188cc56306c171fbecfae5 244B / 244B 0.6s\n",
      "#5 sha256:d7d8cad868ee1551c1424fef0207a3067a5527fbd155377f46a39c27ad912330 0B / 3.39MB 0.6s\n",
      "#5 sha256:d7d8cad868ee1551c1424fef0207a3067a5527fbd155377f46a39c27ad912330 1.05MB / 3.39MB 0.7s\n",
      "#5 sha256:2f44b7a888fa005d07c031d3cfad2a1c0344207def2ab9dbb97712425ff812c1 29.13MB / 29.13MB 0.8s done\n",
      "#5 sha256:4ea8b799d366d7bb13576e6d6b209dd4a479293115188cc56306c171fbecfae5 244B / 244B 0.8s done\n",
      "#5 sha256:d7d8cad868ee1551c1424fef0207a3067a5527fbd155377f46a39c27ad912330 3.39MB / 3.39MB 0.8s\n",
      "#5 extracting sha256:2f44b7a888fa005d07c031d3cfad2a1c0344207def2ab9dbb97712425ff812c1\n",
      "#5 sha256:d7d8cad868ee1551c1424fef0207a3067a5527fbd155377f46a39c27ad912330 3.39MB / 3.39MB 0.9s done\n",
      "#5 extracting sha256:2f44b7a888fa005d07c031d3cfad2a1c0344207def2ab9dbb97712425ff812c1 1.4s done\n",
      "#5 extracting sha256:3f00b3697662aa214d22bb76bbbf5fa4d80f7ba9ca9f9076a9440d53bf529b83\n",
      "#5 extracting sha256:3f00b3697662aa214d22bb76bbbf5fa4d80f7ba9ca9f9076a9440d53bf529b83 0.2s done\n",
      "#5 extracting sha256:9f2fc8d8f9bd29bee019fdbb08e9bb9a9c094d04bbd0c4e4bc75dcf1e22a6fd8\n",
      "#5 extracting sha256:9f2fc8d8f9bd29bee019fdbb08e9bb9a9c094d04bbd0c4e4bc75dcf1e22a6fd8 0.6s done\n",
      "#5 extracting sha256:4ea8b799d366d7bb13576e6d6b209dd4a479293115188cc56306c171fbecfae5 done\n",
      "#5 extracting sha256:d7d8cad868ee1551c1424fef0207a3067a5527fbd155377f46a39c27ad912330\n",
      "#5 extracting sha256:d7d8cad868ee1551c1424fef0207a3067a5527fbd155377f46a39c27ad912330 0.3s done\n",
      "#5 DONE 3.6s\n",
      "\n",
      "#6 [2/6] RUN mkdir /app\n",
      "#6 DONE 2.4s\n",
      "\n",
      "#7 [3/6] WORKDIR /app\n",
      "#7 DONE 0.3s\n",
      "\n",
      "#8 [4/6] COPY server.py /app\n",
      "#8 DONE 0.2s\n",
      "\n",
      "#9 [5/6] COPY dictionary.txt /app\n",
      "#9 DONE 0.2s\n",
      "\n",
      "#10 [6/6] RUN pip3 install -q Flask\n",
      "#10 4.446 WARNING: Running pip as the 'root' user can result in broken permissions and conflicting behaviour with the system package manager. It is recommended to use a virtual environment instead: https://pip.pypa.io/warnings/venv\n",
      "#10 4.721 \n",
      "#10 4.721 [notice] A new release of pip is available: 23.2.1 -> 23.3.2\n",
      "#10 4.721 [notice] To update, run: pip install --upgrade pip\n",
      "#10 DONE 4.9s\n",
      "\n",
      "#11 exporting to image\n",
      "#11 exporting layers\n",
      "#11 exporting layers 0.3s done\n",
      "#11 writing image sha256:0039c29e703b6adbfc35b0f53b765cb0eda4c69e44a267efaac161a9dd1fabbc done\n",
      "#11 naming to docker.io/library/corrector:1.0 0.0s done\n",
      "#11 DONE 0.3s\n"
     ]
    }
   ],
   "source": [
    "# Удаление старого образа\n",
    "! docker rmi corrector:1.0\n",
    "# Создание нового\n",
    "! docker build --progress=plain --no-cache --rm=true  -t corrector:1.0 ."
   ]
  },
  {
   "cell_type": "code",
   "execution_count": 224,
   "id": "88e64d36-48e9-4f9a-897b-1bb89a18f147",
   "metadata": {},
   "outputs": [
    {
     "name": "stdout",
     "output_type": "stream",
     "text": [
      "REPOSITORY    TAG       IMAGE ID       CREATED          SIZE\n",
      "corrector     1.0       0039c29e703b   35 seconds ago   148MB\n",
      "ubuntu        latest    174c8c134b2a   5 weeks ago      77.9MB\n",
      "ubuntu        <none>    e4c58958181a   3 months ago     77.8MB\n",
      "ubuntu        <none>    3565a89d9e81   3 months ago     77.8MB\n",
      "hello-world   <none>    9c7a54a9a43c   8 months ago     13.3kB\n",
      "hello-world   latest    d2c94e258dcb   8 months ago     13.3kB\n",
      "hello-world   linux     d2c94e258dcb   8 months ago     13.3kB\n"
     ]
    }
   ],
   "source": [
    "!docker image ls"
   ]
  },
  {
   "cell_type": "code",
   "execution_count": 225,
   "id": "bc5d0a44-c8f7-4d19-afbb-3e1f11a310b4",
   "metadata": {},
   "outputs": [
    {
     "name": "stdout",
     "output_type": "stream",
     "text": [
      "5b9539037ddbbadc130d83329ca7c92e3f3f771dd14ef1936247b7180bf7751a\n",
      "\u001b[92mВаш контейнеризированное приложение корректно работает!\u001b[0m\n"
     ]
    }
   ],
   "source": [
    "# Останавливаем старый конейнер с приложением \n",
    "! if [ \"$(docker ps | grep -c 'corrector_app')\" -gt 0 ]; then docker stop corrector_app; fi\n",
    "\n",
    "# Запускаем новый контейнер\n",
    "! docker run --name corrector_app --rm -d -p 8000:5555  corrector:1.0;\n",
    "\n",
    "# Прежде чем слать запросы на веб-сервер подождём 2 секунды, пока он запустится\n",
    "time.sleep(2.0)\n",
    "\n",
    "try:\n",
    "    resp = requests.get(\"http://localhost:8000/candidates/1\", params={\"word\": \"генерал\"})\n",
    "except Exception as ex:\n",
    "    print(\"\\033[91m В решении ошибка присутствует ошибка.\", ex, \"\\033[0m\")\n",
    "\n",
    "assert resp.status_code == 200, \"Код ответа не равен 200, в решении присутствуют ошибки\"\n",
    "\n",
    "if resp.status_code == 200:\n",
    "    print(\"\\033[92mВаш контейнеризированное приложение корректно работает!\\033[0m\")"
   ]
  },
  {
   "cell_type": "code",
   "execution_count": 226,
   "id": "3e232451-331f-426d-9bb7-ecbb0d467391",
   "metadata": {},
   "outputs": [
    {
     "name": "stdout",
     "output_type": "stream",
     "text": [
      "CONTAINER ID   IMAGE           COMMAND               CREATED          STATUS          PORTS                                       NAMES\n",
      "5b9539037ddb   corrector:1.0   \"python3 server.py\"   51 seconds ago   Up 50 seconds   0.0.0.0:8000->5555/tcp, :::8000->5555/tcp   corrector_app\n"
     ]
    }
   ],
   "source": [
    "!docker container ls"
   ]
  },
  {
   "cell_type": "code",
   "execution_count": null,
   "id": "ec75edff-69b8-494e-b624-ff7503b1dfbd",
   "metadata": {},
   "outputs": [],
   "source": []
  }
 ],
 "metadata": {
  "kernelspec": {
   "display_name": "Python 3 (ipykernel)",
   "language": "python",
   "name": "python3"
  },
  "language_info": {
   "codemirror_mode": {
    "name": "ipython",
    "version": 3
   },
   "file_extension": ".py",
   "mimetype": "text/x-python",
   "name": "python",
   "nbconvert_exporter": "python",
   "pygments_lexer": "ipython3",
   "version": "3.10.12"
  }
 },
 "nbformat": 4,
 "nbformat_minor": 5
}
